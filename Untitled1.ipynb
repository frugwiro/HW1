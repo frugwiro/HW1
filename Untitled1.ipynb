{
 "cells": [
  {
   "cell_type": "code",
   "execution_count": 1,
   "metadata": {},
   "outputs": [],
   "source": [
    "import pandas as pd\n",
    "import numpy as np\n",
    "import matplotlib.pyplot as plt\n",
    "from IPython.display import Image\n"
   ]
  },
  {
   "cell_type": "code",
   "execution_count": 2,
   "metadata": {},
   "outputs": [
    {
     "name": "stdout",
     "output_type": "stream",
     "text": [
      "Joe is 34 year old.\n",
      "Joe is 34 year old and 184 cm tall\n"
     ]
    }
   ],
   "source": [
    "class Person:\n",
    "  def __init__(self, name, age, height):\n",
    "    self.name = name\n",
    "    self.age = age\n",
    "    self.height = height\n",
    "  def __repr__(self):\n",
    "    return \"{} is {} year old and {} cm tall\" .format(self.name, self.age, self.height)\n",
    "new_person = Person(name='Joe', age=34, height=184)\n",
    "print(\"{:} is {:} year old.\" .format(new_person.name, new_person.age))\n",
    "p1 = Person('Joe', 34, 184) \n",
    "print(p1) "
   ]
  },
  {
   "cell_type": "code",
   "execution_count": null,
   "metadata": {},
   "outputs": [],
   "source": []
  }
 ],
 "metadata": {
  "kernelspec": {
   "display_name": "Python 3",
   "language": "python",
   "name": "python3"
  },
  "language_info": {
   "codemirror_mode": {
    "name": "ipython",
    "version": 3
   },
   "file_extension": ".py",
   "mimetype": "text/x-python",
   "name": "python",
   "nbconvert_exporter": "python",
   "pygments_lexer": "ipython3",
   "version": "3.8.5"
  }
 },
 "nbformat": 4,
 "nbformat_minor": 4
}
