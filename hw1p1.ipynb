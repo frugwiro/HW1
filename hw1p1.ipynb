{
 "cells": [
  {
   "cell_type": "code",
   "execution_count": 1,
   "metadata": {},
   "outputs": [],
   "source": [
    "#import pandas as pd\n",
    "import numpy as np\n",
    "import matplotlib.pyplot as plt\n",
    "#from IPython.display import Image"
   ]
  },
  {
   "cell_type": "code",
   "execution_count": 2,
   "metadata": {},
   "outputs": [
    {
     "name": "stdout",
     "output_type": "stream",
     "text": [
      "The name Roger is 5 letters long\n",
      "The name Mary is 4 letters long\n",
      "The name Luisa is 5 letters long\n",
      "The name Elvis is 5 letters long\n"
     ]
    }
   ],
   "source": [
    "list_of_names = ['Roger', 'Mary', 'Luisa', 'Elvis']\n",
    "list_of_ages  = [23, 24, 19, 86]\n",
    "list_of_heights_cm = [175, 162, 178, 182]\n",
    "\n",
    "\n",
    "for name in list_of_names:\n",
    "  print(\"The name {:} is {:} letters long\".format(name, len(name)))"
   ]
  },
  {
   "cell_type": "code",
   "execution_count": 3,
   "metadata": {},
   "outputs": [
    {
     "name": "stdout",
     "output_type": "stream",
     "text": [
      "Joe is 34 year old.\n",
      "Joe is 34 year old and 184 cm tall\n",
      "Roger\n",
      "Mary\n",
      "Luisa\n",
      "Elvis\n"
     ]
    }
   ],
   "source": [
    "import person\n",
    "#dictionary people\n",
    "people={}\n",
    "for i in range(len(list_of_names)):\n",
    "    name = list_of_names[i]\n",
    "    print(name)\n",
    "    people[name] = person.Person(name, list_of_ages[i], list_of_heights_cm[i])\n"
   ]
  },
  {
   "cell_type": "code",
   "execution_count": 4,
   "metadata": {},
   "outputs": [
    {
     "name": "stdout",
     "output_type": "stream",
     "text": [
      "['Roger' 'Mary' 'Luisa' 'Elvis']\n"
     ]
    }
   ],
   "source": [
    "#dictionary \n",
    "\n",
    "my_names_array = np.array(list_of_names)\n",
    "# printing my_name_array\n",
    "print(my_names_array)"
   ]
  },
  {
   "cell_type": "code",
   "execution_count": 5,
   "metadata": {},
   "outputs": [
    {
     "name": "stdout",
     "output_type": "stream",
     "text": [
      "['Roger' 'Mary' 'Luisa' 'Elvis']\n",
      "[23 24 19 86]\n",
      "[175 162 178 182]\n"
     ]
    }
   ],
   "source": [
    "my_names_array = np.array(list_of_names)\n",
    "print(my_names_array)\n",
    "my_ages_array = np.array(list_of_ages)\n",
    "# printing my_ages_array\n",
    "print(my_ages_array)\n",
    "my_heights_array = np.array(list_of_heights_cm)\n",
    "# printing my_height_array\n",
    "print(my_heights_array)\n"
   ]
  },
  {
   "cell_type": "code",
   "execution_count": 6,
   "metadata": {},
   "outputs": [
    {
     "name": "stdout",
     "output_type": "stream",
     "text": [
      "38.0\n",
      "Average age of people in list 38.0 years\n"
     ]
    }
   ],
   "source": [
    "my_ages_mean = np.mean(list_of_ages)\n",
    "print(my_ages_mean)\n",
    "print(f\"Average age of people in list {my_ages_mean} years\")"
   ]
  },
  {
   "cell_type": "code",
   "execution_count": 7,
   "metadata": {},
   "outputs": [
    {
     "data": {
      "image/png": "[encoded data removed]",
      "text/plain": [
       "<Figure size 432x288 with 1 Axes>"
      ]
     },
     "metadata": {
      "needs_background": "light"
     },
     "output_type": "display_data"
    }
   ],
   "source": [
    "plt.plot(list_of_ages,list_of_heights_cm, 'b.')\n",
    "plt.grid(True)\n",
    "plt.title(\"Height (cm) vs Age\")\n",
    "plt.xlabel(\"Age\")\n",
    "plt.ylabel(\"Height (cm)\")\n",
    "plt.savefig('plot1.png', dpi=300, bbox_inches='tight')\n",
    "plt.show()"
   ]
  },
  {
   "cell_type": "code",
   "execution_count": null,
   "metadata": {},
   "outputs": [],
   "source": []
  },
  {
   "cell_type": "code",
   "execution_count": null,
   "metadata": {},
   "outputs": [],
   "source": []
  },
  {
   "cell_type": "code",
   "execution_count": null,
   "metadata": {},
   "outputs": [],
   "source": []
  }
 ],
 "metadata": {
  "kernelspec": {
   "display_name": "Python 3",
   "language": "python",
   "name": "python3"
  },
  "language_info": {
   "codemirror_mode": {
    "name": "ipython",
    "version": 3
   },
   "file_extension": ".py",
   "mimetype": "text/x-python",
   "name": "python",
   "nbconvert_exporter": "python",
   "pygments_lexer": "ipython3",
   "version": "3.8.5"
  }
 },
 "nbformat": 4,
 "nbformat_minor": 4
}
